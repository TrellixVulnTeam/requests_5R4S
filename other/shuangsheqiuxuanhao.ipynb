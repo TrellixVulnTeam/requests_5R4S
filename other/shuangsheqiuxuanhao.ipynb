{
 "cells": [
  {
   "cell_type": "code",
   "execution_count": 2,
   "metadata": {
    "collapsed": true
   },
   "outputs": [
    {
     "name": "stdout",
     "output_type": "stream",
     "text": [
      "本期双色球随机号码为:12 14 16 21 29 32 5 恭喜发财!"
     ]
    },
    {
     "data": {
      "image/png": "fq.jpg",
      "text/plain": [
       "<IPython.core.display.Image object>"
      ]
     },
     "metadata": {},
     "output_type": "display_data"
    }
   ],
   "source": [
    "#双色球随机生成\n",
    "import random as rd\n",
    "from IPython.display import display, Image\n",
    "list=[2,17,3,4,5,6]\n",
    "for i in range(6):\n",
    "       f=int(rd.random()*37)\n",
    "       for k in list:\n",
    "           if f==k:\n",
    "               f = int(rd.random() * 37)\n",
    "       list[i] = f\n",
    "list.sort()\n",
    "lq=rd.choice([1,2,3,4,5,6,7,8,9,10,11,12,13,14,15,16])\n",
    "list.append(lq)\n",
    "print(\"本期双色球随机号码为\", end=':')\n",
    "for l in list:\n",
    "    print(l,end=' ')\n",
    "print(\"恭喜发财\", end='!')\n",
    "display(Image('fq.jpg'))"
   ]
  },
  {
   "cell_type": "code",
   "execution_count": 9,
   "metadata": {},
   "outputs": [],
   "source": []
  },
  {
   "cell_type": "code",
   "execution_count": null,
   "metadata": {},
   "outputs": [],
   "source": []
  }
 ],
 "metadata": {
  "kernelspec": {
   "display_name": "Python 2",
   "language": "python",
   "name": "python2"
  },
  "language_info": {
   "codemirror_mode": {
    "name": "ipython",
    "version": 2
   },
   "file_extension": ".py",
   "mimetype": "text/x-python",
   "name": "python",
   "nbconvert_exporter": "python",
   "pygments_lexer": "ipython2",
   "version": "2.7.6"
  }
 },
 "nbformat": 4,
 "nbformat_minor": 0
}
