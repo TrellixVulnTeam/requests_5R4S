import matplotlib.pyplot as plt
import numpy as np

#useage:https://zhuanlan.zhihu.com/p/25087813
#直方图
def zhifangtu():

    mu = 100
    sigma = 20
    x = mu + sigma * np.random.randn(20000)  # 样本数量
    plt.hist(x,bins=100,color='green',normed=True)   # bins显示有几个直方,normed是否对数据进行标准化
    plt.show()
#条形图
def tiaoxingtu():
    y = [20, 10, 30, 25, 15]
    index = np.arange(5)
    plt.bar(left=index, height=y, color='green', width=0.5)
    plt.show()
#拆线图
def zhexiantu():
    x = np.linspace(-10, 10, 100)
    y = x ** 3
    plt.plot(x, y, linestyle='--', color='green', marker='<')
    plt.show()
#散点图
def sandiantu():
    x = np.random.randn(1000)
    y = x + np.random.randn(1000) * 0.5
    plt.scatter(x, y, s=5, marker='<')  # s表示面积，marker表示图形
    plt.show()
#饼图
def bingzhangtu():
    labels = 'A', 'B', 'C', 'D'
    fracs = [15, 30, 45, 10]
    plt.axes(aspect=1)  # 使x y轴比例相同
    explode = [0, 0.05, 0, 0]  # 突出某一部分区域
    plt.pie(x=fracs, labels=labels, autopct='%.0f%%', explode=explode)  # autopct显示百分比
    plt.show()
#箱体图
def xiangtitu():
    np.random.seed(100)
    data = np.random.normal(size=(1000, 4), loc=0, scale=1)
    labels = ['A', 'B', 'C', 'D']
    plt.boxplot(data, labels=labels)
    plt.show()


if __name__ == '__main__':
    zhifangtu()